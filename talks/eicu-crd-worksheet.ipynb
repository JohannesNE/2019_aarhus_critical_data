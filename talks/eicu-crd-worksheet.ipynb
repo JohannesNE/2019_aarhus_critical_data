{
 "cells": [
  {
   "cell_type": "markdown",
   "metadata": {
    "slideshow": {
     "slide_type": "slide"
    }
   },
   "source": [
    "# eICU Collaborative Research Database\n",
    "\n",
    "This worksheet goes over:\n",
    "\n",
    "1. Accessing eICU-CRD on Google BigQuery\n",
    "2. Using Google Colaboratory to run Python code\n",
    "3. Example notebooks to get you started"
   ]
  },
  {
   "cell_type": "markdown",
   "metadata": {
    "slideshow": {
     "slide_type": "slide"
    }
   },
   "source": [
    "# 1. Accessing eICU-CRD on BigQuery"
   ]
  },
  {
   "cell_type": "markdown",
   "metadata": {
    "slideshow": {
     "slide_type": "subslide"
    }
   },
   "source": [
    "## eICU-CRD is made available on [Google BigQuery](https://console.cloud.google.com/bigquery)\n",
    "\n",
    "Google BigQuery is a fast relational database system."
   ]
  },
  {
   "cell_type": "markdown",
   "metadata": {
    "slideshow": {
     "slide_type": "subslide"
    }
   },
   "source": [
    "## How does data access work?\n",
    "\n",
    "* All access is provided via a *Google Account* - it does not necessarily have to be gmail!\n",
    "* Google Accounts are added to Google Groups, which allow access to the data.\n",
    "* **Takeaway**: You will need to authenticate with a Google account!"
   ]
  },
  {
   "cell_type": "markdown",
   "metadata": {
    "slideshow": {
     "slide_type": "subslide"
    }
   },
   "source": [
    "# Log in to BigQuery\n",
    "\n",
    "\n",
    "\n",
    "https://console.cloud.google.com/bigquery"
   ]
  },
  {
   "cell_type": "markdown",
   "metadata": {
    "slideshow": {
     "slide_type": "slide"
    }
   },
   "source": [
    "# 2. Using Google Colab\n",
    "\n",
    "<img alt=\"Colaboratory logo\" src=\"https://colab.research.google.com/img/colab_favicon.ico\" vspace=\"0px\"> Colaboratory is a free Jupyter notebook environment that requires **no setup** and runs entirely in the cloud.\n"
   ]
  },
  {
   "cell_type": "markdown",
   "metadata": {
    "slideshow": {
     "slide_type": "subslide"
    }
   },
   "source": [
    "Welcome notebook:\n",
    "\n",
    "https://colab.research.google.com/notebooks/welcome.ipynb"
   ]
  },
  {
   "cell_type": "markdown",
   "metadata": {
    "slideshow": {
     "slide_type": "slide"
    }
   },
   "source": [
    "# 3. Workshop\n",
    "\n",
    "* Open a notebook with example code we have provided\n",
    "* Be able to access BigQuery with these notebooks"
   ]
  },
  {
   "cell_type": "markdown",
   "metadata": {
    "slideshow": {
     "slide_type": "subslide"
    }
   },
   "source": [
    "## Example notebooks\n",
    "\n",
    "https://github.com/MIT-LCP/2019_mlhc_workshop\n",
    "\n",
    "* [01_access_the_data.ipynb](https://colab.research.google.com/github/MIT-LCP/2019_mlhc_workshop/blob/master/notebooks/01_access_the_data.ipynb)\n",
    "* [02_explore_patients.ipynb](https://colab.research.google.com/github/MIT-LCP/2019_mlhc_workshop/blob/master/notebooks/02_explore_patients.ipynb)\n",
    "* [03_severity_of_illness.ipynb](https://colab.research.google.com/github/MIT-LCP/2019_mlhc_workshop/blob/master/notebooks/03_severity_of_illness.ipynb)\n",
    "* [04_summary_statistics.ipynb](https://colab.research.google.com/github/MIT-LCP/2019_mlhc_workshop/blob/master/notebooks/04_summary_statistics.ipynb)\n",
    "* [05_prediction.ipynb](https://colab.research.google.com/github/MIT-LCP/2019_mlhc_workshop/blob/master/notebooks/05_prediction.ipynb)\n"
   ]
  }
 ],
 "metadata": {
  "celltoolbar": "Slideshow",
  "kernelspec": {
   "display_name": "Python 3",
   "language": "python",
   "name": "python3"
  },
  "language_info": {
   "codemirror_mode": {
    "name": "ipython",
    "version": 3
   },
   "file_extension": ".py",
   "mimetype": "text/x-python",
   "name": "python",
   "nbconvert_exporter": "python",
   "pygments_lexer": "ipython3",
   "version": "3.7.3"
  }
 },
 "nbformat": 4,
 "nbformat_minor": 2
}
